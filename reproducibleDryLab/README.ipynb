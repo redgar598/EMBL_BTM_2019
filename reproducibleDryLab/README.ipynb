{
 "cells": [
  {
   "cell_type": "markdown",
   "metadata": {
    "collapsed": false
   },
   "source": [
    "# Reproducible research in dry lab"
   ]
  },
  {
   "cell_type": "markdown",
   "metadata": {
    "collapsed": false
   },
   "source": [
    "## What is reproducibility in dry lab? (3-5 min?)\n",
    "\n",
    "- Make your analysis understandable to fellow researchers and your future self\n",
    "- Be able to share your research at all times\n",
    "- Have others reproduce your results with your code easily\n",
    "- Have your code work reliably with different inputs and in different environments\n"
   ]
  },
  {
   "cell_type": "markdown",
   "metadata": {
    "collapsed": false
   },
   "source": [
    "## Jupyter notebooks (10-16 min)\n",
    "Currently you are seeing a jupyter notebook. Both Max and Paul use Jupter-Lab daily for our work. We think its great and want to introduce you to it.\n",
    "\n",
    "In Notebooks you can have analysis and short scripts side by side with text and explanations. Its great to explain what you are doing so others can understand it. It is also self contained, meaning everything you need to produce the results is in this single document, so anyone with the notbook and your data, can understand your entire analysis.\n",
    "\n",
    "Notebook are organized in blocks. So this is a text or markdown block and "
   ]
  },
  {
   "cell_type": "code",
   "execution_count": 13,
   "metadata": {
    "collapsed": false
   },
   "outputs": [
    {
     "name": "stdout",
     "output_type": "stream",
     "text": [
      "Hello World\n"
     ]
    }
   ],
   "source": [
    "# This is a code block\n",
    "# Here you can do python computations\n",
    "print(\"Hello World\")"
   ]
  },
  {
   "cell_type": "markdown",
   "metadata": {
    "collapsed": false
   },
   "source": [
    "Once executed, the result of the code block is shown, this even works for plots:"
   ]
  },
  {
   "cell_type": "code",
   "execution_count": 14,
   "metadata": {
    "collapsed": false
   },
   "outputs": [
    {
     "data": {
      "image/png": "[encoded data removed]",
      "text/plain": [
       "<Figure size 432x288 with 1 Axes>"
      ]
     },
     "execution_count": 14,
     "metadata": {
      "image/png": {
       "height": 248,
       "width": 369
      }
     },
     "output_type": "execute_result"
    }
   ],
   "source": [
    "# import matplotlib as the plotting library\n",
    "import matplotlib.pyplot as plt\n",
    "\n",
    "# define some sample data\n",
    "X = [590,540,740,130,810,300,320,230,470,620,770,250]\n",
    "Y = [32,36,39,52,61,72,77,75,68,57,48,48]\n",
    "\n",
    "# make the plot\n",
    "plt.scatter(X,Y)\n",
    "# and show it to the world\n",
    "plt.show()"
   ]
  },
  {
   "cell_type": "markdown",
   "metadata": {
    "collapsed": false
   },
   "source": [
    "When you save your notebook the output of your code is saved as well. If you load the executed notebok up to github it will be nicely formated: [github.](https://github.com/mffrank/BTM_reproducible_research)"
   ]
  },
  {
   "cell_type": "markdown",
   "metadata": {
    "collapsed": false
   },
   "source": [
    "### JupyterLab with R and/or Rmarkdown in Rstudio\n",
    "Jupyter-lab was developed with python in mind but now supports also other languages, such as R and Julia.\n",
    "Rstudio is great for those who will only work in R. It has the advantage of workspace displays etc.\n",
    "If you don't know either tool yet we would recommend learning to use jupyter since it is much more flexible."
   ]
  },
  {
   "cell_type": "markdown",
   "metadata": {
    "collapsed": false
   },
   "source": [
    "## Writing good code\n",
    "Programming is easy. Writing good code is not.\n",
    "\n",
    "What makes good code good? That's not easy to say, but sometimes you can see it. You might remember you're first attempts at coding and you might have seen the code of a large project on github. What is different?\n",
    "\n",
    "Good code has a consistent style across the entire code base. Variables will be named in a similiar way and have meaningful names. \n",
    "\n",
    "Good code looks clean, no weird spacing and you might want to follow a style guide. For R we can recommend the Google R style guide (https://google.github.io/styleguide/Rguide.html) and for python you will want to follow PEP8 (https://www.python.org/dev/peps/pep-0008/). It is useful to activate a PEP8 plugin in your code editor of choice."
   ]
  },
  {
   "cell_type": "code",
   "execution_count": 0,
   "metadata": {
    "collapsed": false
   },
   "outputs": [
   ],
   "source": [
   ]
  },
  {
   "cell_type": "markdown",
   "metadata": {
    "collapsed": false
   },
   "source": [
    "#### Four examples:\n",
    "- Variable names\n",
    "- Functions\n",
    "- Magic numbers and parameters\n",
    "- Code commenting"
   ]
  },
  {
   "cell_type": "code",
   "execution_count": 46,
   "metadata": {
    "collapsed": false
   },
   "outputs": [
    {
     "name": "stdout",
     "output_type": "stream",
     "text": [
      "Peter Pan is my hero.\n",
      "Peter Pan is my hero.\n"
     ]
    }
   ],
   "source": [
    "# vairbales should not be random\n",
    "# You should not write it like this:\n",
    "x = \"Peter Pan\"\n",
    "g, h = x.split()\n",
    "print(g + \" \" + h + \" is my hero.\")\n",
    "\n",
    "\n",
    "# Variables and functions should be descriptive instead\n",
    "# and multi-world variables seperated by underscore\n",
    "name = \"Peter Pan\"\n",
    "firstname, lastname = name.split()\n",
    "print(f\"{firstname} {lastname} is my hero.\")\n",
    "\n",
    "# Although both produce the same result."
   ]
  },
  {
   "cell_type": "code",
   "execution_count": 23,
   "metadata": {
    "collapsed": false
   },
   "outputs": [
    {
     "name": "stdout",
     "output_type": "stream",
     "text": [
      "5.455048284659643\n"
     ]
    }
   ],
   "source": [
    "## We have two datasets and want to find out the difference of their geometric mean\n",
    "import numpy as np\n",
    "\n",
    "# Define input\n",
    "dataset_1 = np.array([10, 7, 18, 3, 9])\n",
    "dataset_2 = np.array([12, 1, 2, 5, 1])\n",
    "\n",
    "mean_1 = dataset_1.prod()**(1/len(dataset_1))\n",
    "mean_2 = dataset_2.prod()**(1/len(dataset_2))\n",
    "\n",
    "print(mean_1 - mean_2)"
   ]
  },
  {
   "cell_type": "code",
   "execution_count": 47,
   "metadata": {
    "collapsed": false
   },
   "outputs": [
    {
     "name": "stdout",
     "output_type": "stream",
     "text": [
      "5.455048284659643\n"
     ]
    }
   ],
   "source": [
    "## Now with functions\n",
    "import numpy as np\n",
    "\n",
    "def geom_mean(a):\n",
    "    \"\"\"Compute the geometric mean of an array\"\"\"\n",
    "    return a.prod()**(1/len(a))\n",
    "\n",
    "# Define input\n",
    "dataset_1 = np.array([10, 7, 18, 3, 9])\n",
    "dataset_2 = np.array([12, 1, 2, 5, 1])\n",
    "\n",
    "print(geom_mean(dataset_1) - geom_mean(dataset_2))"
   ]
  },
  {
   "cell_type": "code",
   "execution_count": 0,
   "metadata": {
    "collapsed": false
   },
   "outputs": [
   ],
   "source": [
    "# magic numbers should not appear in your code, declare them as variables\n",
    "# and then use the variable instead.\n",
    "# And always describe where the number comes from.\n",
    "\n",
    "def geom_mean(a):\n",
    "    \"\"\"Compute the geometric mean of an array\"\"\"\n",
    "    return a.prod()**(1/len(a))\n",
    "\n",
    "def shift_center(c, by = 42):\n",
    "    \"\"\"Shifting the center by 42 (default from paper et al 2019)\"\"\"\n",
    "    return(c + by)\n",
    "\n",
    "coordinates = np.array([12, 1, 2, 5, 1])\n",
    "center = geom_mean(protein_coordinates)\n",
    "shifted_center = shift_center(center)\n",
    "print(f\"We shifted the center from {protein_center} to {shifted_center}\")"
   ]
  },
  {
   "cell_type": "code",
   "execution_count": 44,
   "metadata": {
    "collapsed": false
   },
   "outputs": [
    {
     "name": "stdout",
     "output_type": "stream",
     "text": [
      "We shifted the center from 2.605171084697352 to 44.60517108469735\n"
     ]
    }
   ],
   "source": [
   ]
  },
  {
   "cell_type": "code",
   "execution_count": 0,
   "metadata": {
    "collapsed": false
   },
   "outputs": [
   ],
   "source": [
   ]
  },
  {
   "cell_type": "code",
   "execution_count": 0,
   "metadata": {
    "collapsed": false
   },
   "outputs": [
   ],
   "source": [
   ]
  },
  {
   "cell_type": "markdown",
   "metadata": {
    "collapsed": false
   },
   "source": [
    "### Code comments (10 min)\n",
    "\n",
    "\n",
    "All code should have a few comments around them. Try to follow these points and you will be fine:\n",
    "\n",
    "- More comments are better\n",
    "- Explain *why* not *what* (At least not for trivial functionality)\n",
    "- Help the reader (future you) understand whats happening\n",
    "- Document all function parameters and outputs (There are standard ways of doing this in R and python)\n"
   ]
  },
  {
   "cell_type": "code",
   "execution_count": 3,
   "metadata": {
    "collapsed": false,
    "scrolled": true
   },
   "outputs": [
    {
     "name": "stderr",
     "output_type": "stream",
     "text": [
      "UsageError: Cell magic `%%R` not found.\n"
     ]
    }
   ],
   "source": [
    "%%R\n",
    "' Add together two numbers.\n",
    "#' \n",
    "#' @param x A number.\n",
    "#' @param y A number.\n",
    "#' @return The sum of \\code{x} and \\code{y}.\n",
    "#' @examples\n",
    "#' add(1, 1)\n",
    "#' add(10, 1)\n",
    "add <- function(x, y) {\n",
    "  x + y\n",
    "}"
   ]
  },
  {
   "cell_type": "code",
   "execution_count": 5,
   "metadata": {
    "collapsed": false
   },
   "outputs": [
   ],
   "source": [
    "# Python \n",
    "def add(a, b):\n",
    "    \"\"\"Add together two numbers.\n",
    "\n",
    "   arguments:\n",
    "    a -- A number\n",
    "    b -- A number\n",
    "    \"\"\"\n",
    "    return a + b"
   ]
  },
  {
   "cell_type": "markdown",
   "metadata": {
    "collapsed": false
   },
   "source": [
    "The advantage of documenting functions like this is that you can automatically compile documentations. Even if you don't want to do that it is good practice to document in a standard way."
   ]
  },
  {
   "cell_type": "markdown",
   "metadata": {
    "collapsed": false
   },
   "source": [
    "## Version control (20 min)\n",
    "\n",
    "Versioning means whenever you make significant changes in your code, they are tracked and could potentially be changed back again, if they turn out to be not needed. You know this from the `undo` function from most text editors and such. But version control can do more than just that.\n",
    "\n",
    "### Lets introduce git:\n",
    "\n",
    "Git was designed to allow version tracking of code and the collaboration of many people on the same project. For this to work we need to help git out."
   ]
  },
  {
   "cell_type": "code",
   "execution_count": 0,
   "metadata": {
    "collapsed": false
   },
   "outputs": [
   ],
   "source": [
    "%%bash\n",
    "# lets create a folder for a new project\n",
    "mkdir myproject\n",
    "cd myproject\n",
    "# once in it we initialize a new git repository\n",
    "git init"
   ]
  },
  {
   "cell_type": "markdown",
   "metadata": {
    "collapsed": false
   },
   "source": [
    "We can now work in this directory as we please but:"
   ]
  },
  {
   "cell_type": "code",
   "execution_count": 0,
   "metadata": {
    "collapsed": false
   },
   "outputs": [
   ],
   "source": [
    "%%bash\n",
    "echo \"I did some work\" >> \"myproject/Work.txt\""
   ]
  },
  {
   "cell_type": "markdown",
   "metadata": {
    "collapsed": false
   },
   "source": [
    "After doing some work we can see what happened using `git status`:"
   ]
  },
  {
   "cell_type": "code",
   "execution_count": 19,
   "metadata": {
    "collapsed": false
   },
   "outputs": [
    {
     "name": "stdout",
     "output_type": "stream",
     "text": [
      "On branch master\n",
      "\n",
      "No commits yet\n",
      "\n",
      "Untracked files:\n",
      "  (use \"git add <file>...\" to include in what will be committed)\n",
      "\n",
      "\tWork.txt\n",
      "\n",
      "nothing added to commit but untracked files present (use \"git add\" to track)\n"
     ]
    }
   ],
   "source": [
    "%%bash\n",
    "cd myproject\n",
    "# Git status gives you the most relevant info about your repository\n",
    "git status"
   ]
  },
  {
   "cell_type": "markdown",
   "metadata": {
    "collapsed": false
   },
   "source": [
    "We can now work in this directory as we please but once we did some work we want to commit it, so we can keep track of the changes"
   ]
  },
  {
   "cell_type": "code",
   "execution_count": 7,
   "metadata": {
    "collapsed": false
   },
   "outputs": [
    {
     "name": "stdout",
     "output_type": "stream",
     "text": [
      "On branch master\n",
      "\n",
      "No commits yet\n",
      "\n",
      "Changes to be committed:\n",
      "  (use \"git rm --cached <file>...\" to unstage)\n",
      "\n",
      "\tnew file:   Work.txt\n",
      "\n"
     ]
    }
   ],
   "source": [
    "%%bash\n",
    "cd myproject\n",
    "# Commiting work is a two stage process: First we need to add all files we want to commit.\n",
    "# In this case it's just Work.txt\n",
    "git add Work.txt\n",
    "git status"
   ]
  },
  {
   "cell_type": "code",
   "execution_count": 0,
   "metadata": {
    "collapsed": false
   },
   "outputs": [
   ],
   "source": [
    "%%bash\n",
    "cd myproject\n",
    "# Now we commit our work with a message that describes what we did\n",
    "git commit -m \"Add work.txt\""
   ]
  },
  {
   "cell_type": "markdown",
   "metadata": {
    "collapsed": false
   },
   "source": [
    "Commits represent a unit of work you did. Every problem you solve gets a commit.\n",
    "\n",
    "Some committing etiquette:\n",
    "- In general a commit should be described in 80 characters (you can also add a longer description on a new line)\n",
    "- Use present tense\n",
    "- Don't commit many things at once (If the description has an \"and\" split it up)\n"
   ]
  },
  {
   "cell_type": "markdown",
   "metadata": {
    "collapsed": false
   },
   "source": [
    "### Become a git power user\n",
    "- Learn what you’ll actually use:  \n",
    "https://rogerdudler.github.io/git-guide/\n",
    "- Understand the basics:  \n",
    "https://marklodato.github.io/visual-git-guide/index-en.html\n",
    "- Understand the principle:  \n",
    "https://www.sbf5.com/~cduan/technical/git/git-1.shtml\n",
    "- Learn more in depth: Listen to talks:  \n",
    "https://www.youtube.com/watch?v=duqBHik7nRo\n"
   ]
  },
  {
   "cell_type": "markdown",
   "metadata": {
    "collapsed": false
   },
   "source": [
    "## Sharing your work with others and collaborating\n",
    "\n",
    "### Platforms to share code\n",
    "- [Github](https://github.com/)\n",
    "- [Gitlab](https://git.embl.de/) (EMBL has it's own server)\n",
    "- [Bitbucket](https://bitbucket.org/)\n",
    "\n",
    "Create a github profile, even if you will likely not contribute any code. These platforms are important also for discussions and error reports.  \n",
    "Terms you should know:\n",
    "- README at the root of the project\n",
    "- Issues\n",
    "- Branches\n",
    "- Pull requests\n"
   ]
  },
  {
   "cell_type": "markdown",
   "metadata": {
    "collapsed": false
   },
   "source": [
    "## Project setup\n",
    "\n",
    "I organize my projects as a git repository with a defined folder structure. This makes it easy for myself to find things later but also means I can automate a lot of boring tasks:\n",
    "\n",
    "- myproject/\n",
    "  - .gitignore\n",
    "  - README.md\n",
    "  - data/\n",
    "  - results/\n",
    "  - doc/\n",
    "  - src/\n",
    "\n",
    "An example how to quickly generate project structures like this one can be found here: https://github.com/chendaniely/computational-project-cookie-cutter/.\n",
    "A .gitignore file tells git what to not include in its version tracking. This will usually be large data files, personal configuration files etc."
   ]
  },
  {
   "cell_type": "markdown",
   "metadata": {
    "collapsed": false
   },
   "source": [
    "## Software environments\n",
    "Let's say you documented your code well and tracked it with a version control system. Great! But have you ever tried to install an R/python package from a paper or tried to run a labmates script and had to install dependencies for half an hour first? How can you make sure that your package or script runs on another persons computer?\n",
    "\n",
    "\n",
    "\n",
    "\n",
    "\n"
   ]
  },
  {
   "cell_type": "markdown",
   "metadata": {
    "collapsed": false
   },
   "source": [
    "### Conda (15 min)\n",
    "\n",
    "Conda is a dependency manager developed for python. It also works for R packages now. For those familiar with pip, it just is a superior alternative to pip.\n",
    "\n",
    "#### What does conda do?\n",
    "- Conda lets you create environments (=blank slates that software can be installed into)\n",
    "- Conda installs software (and makes sure all your installed software will work together)\n",
    "- Conda produces a recipe to install everything in your environment on another computer\n",
    "#### Install conda\n",
    "- [Anaconda](https://www.anaconda.com/distribution/): Graphical user interface (for people that are not too comfortable in the command line)\n",
    "- [miniconda](https://docs.conda.io/projects/conda/en/latest/user-guide/install/): Minimal version, usually sufficient"
   ]
  },
  {
   "cell_type": "code",
   "execution_count": 0,
   "metadata": {
    "collapsed": false
   },
   "outputs": [
   ],
   "source": [
    "%%bash\n",
    "conda create --name myproject python=3.7\n",
    "conda activate myproject\n",
    "conda install numpy\n",
    "\n",
    "# or in a single line (using the default python)\n",
    "conda create -n myproject numpy"
   ]
  },
  {
   "cell_type": "markdown",
   "metadata": {
    "collapsed": false
   },
   "source": [
    "## Advanced Topics\n",
    "\n",
    "Going into depth for these topics would not make sense in this session, but we feel it's important to be aware of their existence."
   ]
  },
  {
   "cell_type": "markdown",
   "metadata": {
    "collapsed": false
   },
   "source": [
    "### Docker / Singularity (2 min)\n",
    "Conda works fine for python and R projects. But sometimes you have more than just python or R in your pipeline. Singulairty and Docker install a whole virtual system on another computer that you can install anything you like in.\n",
    "\n",
    "The beauty of this system is, that you can now share either the recipe for the container or the container itself and the software inside of it just works:"
   ]
  },
  {
   "cell_type": "code",
   "execution_count": 0,
   "metadata": {
    "collapsed": false
   },
   "outputs": [
   ],
   "source": [
    "# running a singulairty command\n",
    "singularity exec container.sif complex_software --input A --output B"
   ]
  },
  {
   "cell_type": "markdown",
   "metadata": {
    "collapsed": false
   },
   "source": [
    "### Testing\n",
    "For bigger software projects it is important to know if any change that i made to the code will break some existing code.\n",
    "Therefore writing tests is important for production code."
   ]
  },
  {
   "cell_type": "markdown",
   "metadata": {
    "collapsed": false
   },
   "source": [
    "### Pipelines\n",
    "There are many tools to create pipelines:\n",
    "- Sakemake\n",
    "- Nextflow\n",
    "- CWL\n",
    "\n",
    "Come to Pauls session if you want to learn about this"
   ]
  },
  {
   "cell_type": "code",
   "execution_count": 0,
   "metadata": {
    "collapsed": false
   },
   "outputs": [
   ],
   "source": [
   ]
  }
 ],
 "metadata": {
  "kernelspec": {
   "display_name": "Python 3 (system-wide)",
   "language": "python",
   "metadata": {
    "cocalc": {
     "description": "Python 3 programming language",
     "priority": 100,
     "url": "https://www.python.org/"
    }
   },
   "name": "python3"
  },
  "language_info": {
   "codemirror_mode": {
    "name": "ipython",
    "version": 3
   },
   "file_extension": ".py",
   "mimetype": "text/x-python",
   "name": "python",
   "nbconvert_exporter": "python",
   "pygments_lexer": "ipython3",
   "version": "3.6.8"
  }
 },
 "nbformat": 4,
 "nbformat_minor": 0
}