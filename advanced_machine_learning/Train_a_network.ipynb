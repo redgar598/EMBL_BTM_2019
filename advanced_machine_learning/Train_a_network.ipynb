{
 "cells": [
  {
   "cell_type": "code",
   "execution_count": null,
   "metadata": {},
   "outputs": [],
   "source": [
    "    %matplotlib inline\n",
    "    import torch\n",
    "    from torch.utils.data import DataLoader\n",
    "    from torchvision import transforms\n",
    "    from dataset import NucleiDataset\n",
    "    from utils import RandomCrop, show_images, iterate #TODO evaluate\n",
    "    from losses import focal_loss, dice_loss, get_iou\n",
    "    from unet import UNet"
   ]
  },
  {
   "cell_type": "code",
   "execution_count": null,
   "metadata": {},
   "outputs": [],
   "source": [
    "TRAIN_DATA_PATH = '/g/kreshuk/zinchenk/courses/EMBL_BTM_2019/advanced_machine_learning/nuclei_train_data'\n",
    "BATCH_SIZE = 1\n",
    "NUM_LAYERS = 3\n",
    "IN_FILTERS = 32\n",
    "GAMMA = 2"
   ]
  },
  {
   "cell_type": "code",
   "execution_count": null,
   "metadata": {},
   "outputs": [],
   "source": [
    "train_data = NucleiDataset(TRAIN_DATA_PATH, RandomCrop(256))\n",
    "train_dataloader = DataLoader(train_data, batch_size=BATCH_SIZE)"
   ]
  },
  {
   "cell_type": "code",
   "execution_count": null,
   "metadata": {},
   "outputs": [],
   "source": [
    "model=UNet(IN_FILTERS, NUM_LAYERS)\n",
    "optimizer = torch.optim.SGD(model.parameters(), lr=0.001, momentum=0.9)"
   ]
  },
  {
   "cell_type": "code",
   "execution_count": null,
   "metadata": {},
   "outputs": [],
   "source": [
    "def train(model, optimizer, dataloader, gamma, num_epochs=10):\n",
    "    dataset_size = len(dataloader)\n",
    "    for epoch in range(num_epochs):\n",
    "        print('Epoch {}/{}'.format(epoch+1, num_epochs))\n",
    "        print('-' * 10)\n",
    "        model.train()\n",
    "        train_loss = 0.0\n",
    "        train_accuracy = 0.0\n",
    "        train_iou = 0.0\n",
    "        count = 0\n",
    "        for images, masks in iterate(dataloader):\n",
    "            count += 1\n",
    "            optimizer.zero_grad()\n",
    "            outputs = model(images)\n",
    "            predictions = (outputs > 0.5)\n",
    "            if count % 10 == 0:\n",
    "                show_images(images, masks, predictions)\n",
    "            loss = focal_loss(outputs, masks, gamma)\n",
    "            accuracy = torch.mean((predictions == masks.byte()).float())\n",
    "            iou = get_iou(predictions, masks.type(torch.bool))\n",
    "            loss.backward()\n",
    "            optimizer.step()\n",
    "            train_loss += loss.item()\n",
    "            train_accuracy += accuracy.item()\n",
    "            train_iou += iou.item()\n",
    "        epoch_loss = train_loss / dataset_size\n",
    "        epoch_accuracy = train_accuracy / dataset_size\n",
    "        epoch_iou = train_iou / dataset_size\n",
    "        print ('Training loss is {:.6f}, iou is {:.6f}, accuracy is {:.6f}'.format(epoch_loss, epoch_iou, epoch_accuracy))\n",
    "    return model"
   ]
  },
  {
   "cell_type": "code",
   "execution_count": null,
   "metadata": {},
   "outputs": [],
   "source": [
    "model = train(model, optimizer, train_dataloader, gamma=GAMMA, num_epochs=10)"
   ]
  },
  {
   "cell_type": "code",
   "execution_count": null,
   "metadata": {},
   "outputs": [],
   "source": []
  }
 ],
 "metadata": {
  "kernelspec": {
   "display_name": "Python 3",
   "language": "python",
   "name": "python3"
  },
  "language_info": {
   "codemirror_mode": {
    "name": "ipython",
    "version": 3
   },
   "file_extension": ".py",
   "mimetype": "text/x-python",
   "name": "python",
   "nbconvert_exporter": "python",
   "pygments_lexer": "ipython3",
   "version": "3.7.3"
  }
 },
 "nbformat": 4,
 "nbformat_minor": 2
}
